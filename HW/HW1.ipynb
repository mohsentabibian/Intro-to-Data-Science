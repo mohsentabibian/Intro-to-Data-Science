{
 "cells": [
  {
   "cell_type": "markdown",
   "metadata": {},
   "source": [
    "# Intro to Data Science - Homework 1 - Fall 2024 - Wilmington College, Wilmington, OH\n",
    "## check\n",
    "# Intro to Data Science - Homework 1 - Fall 2024 - Wilmington College\n",
    "## Due Date: February 2, 2024, 11:30 AM (Before the Start of Our Class)\n",
    "\n",
    "Dear Students,\n",
    "\n",
    "Welcome to Homework 1 for the Intro to Data Science course.\n",
    "\n",
    "**Submission Instructions:**\n",
    "Please complete the homework and commit your changes to GitHub. In case you encounter any issues or have questions, feel free to seek assistance from me.\n",
    "\n",
    "**Alternative Submission:**\n",
    "If, for any reason, you are unable to use GitHub, you can submit your work via email.\n",
    "\n",
    "Remember, timely completion of assignments is crucial for your understanding of the course material. If you face any challenges, don't hesitate to reach out."
   ]
  },
  {
   "cell_type": "markdown",
   "metadata": {},
   "source": [
    "1. **Tuple Manipulation:**\n",
    "   - Given the tuple `tup = (4, 5, 6)`, create a new tuple `nested_tup` that contains two copies of `tup` as its elements.\n",
    "   - Explain the difference between mutable and immutable objects using the example of tuples.\n"
   ]
  },
  {
   "cell_type": "markdown",
   "metadata": {},
   "source": [
    "2. **List Operations:**\n",
    "   - Create a list `a_list` with elements [2, 3, 7, None]. Modify the list by replacing the element at index 1 with the string \"peekaboo\".\n",
    "   - Explain the difference between `append` and `extend` methods for adding elements to a list.\n",
    "\n"
   ]
  },
  {
   "cell_type": "markdown",
   "metadata": {},
   "source": [
    "3. **Dictionary Manipulation:**\n",
    "   - Create a dictionary `d1` with keys 'a' and 'b', and values 'some value' and [1, 2, 3, 4] respectively. Add a new key-value pair with key 7 and value 'an integer'.\n",
    "   - Illustrate the use of the `pop` method on a dictionary with the example of removing the key 'dummy' from `d1`.\n",
    "\n"
   ]
  },
  {
   "cell_type": "markdown",
   "metadata": {},
   "source": [
    "4. **Set Operations:**\n",
    "   - Given two sets `a = {1, 2, 3, 4, 5}` and `b = {3, 4, 5, 6, 7, 8}`, perform the union and intersection operations on these sets.\n",
    "   - Explain the concept of a subset and a superset with the example of set `a_set = {1, 2, 3, 4, 5}`.\n",
    "\n"
   ]
  },
  {
   "cell_type": "markdown",
   "metadata": {},
   "source": [
    "5. **Sequence Functions:**\n",
    "   - Use the `enumerate` function to iterate over the elements of a list `my_list = ['apple', 'banana', 'cherry', 'date']` and print both the index and the value.\n",
    "   - Provide an example of using the `sorted` function to sort a list of strings in ascending order.\n",
    "\n"
   ]
  },
  {
   "cell_type": "markdown",
   "metadata": {},
   "source": [
    "6. **Comprehensions:**\n",
    "   - Create a list comprehension that extracts uppercase versions of strings from a list `strings=[\"apple\", \"Banana\", \"Cherry\", \"Dog\", \"Elephant\"]` if their length is greater than 2.\n",
    "   - Write a dictionary comprehension that maps each element in a list `values=[1, 2, 3, 4, 5]` to its square.\n",
    "\n"
   ]
  },
  {
   "cell_type": "markdown",
   "metadata": {},
   "source": [
    "7. **Slicing and Reversing:**\n",
    "   - Given the list `seq = [7, 2, 3, 6, 3, 6, 0, 1]`, perform slicing to extract the sublists [2, 3, 6] and [6, 3, 6, 0].\n",
    "   - Use the `reversed` function to reverse the elements of a list and explain its behavior.\n",
    "\n"
   ]
  },
  {
   "cell_type": "markdown",
   "metadata": {},
   "source": [
    "8. **Tuple Unpacking and Swapping:**\n",
    "   - Illustrate the concept of tuple unpacking by swapping the values of two variables without using a temporary variable.\n",
    "\n"
   ]
  },
  {
   "cell_type": "code",
   "execution_count": null,
   "metadata": {},
   "outputs": [],
   "source": [
    "# Two variables with initial values\n",
    "a = 5\n",
    "b = 10"
   ]
  },
  {
   "cell_type": "markdown",
   "metadata": {},
   "source": [
    "9. **Concatenation and Multiplication:**\n",
    "   - Concatenate two tuples `(4, None, 'foo')` and `(7, 8, (2, 3))` using both the `+` operator and the `extend` method.\n",
    "\n"
   ]
  },
  {
   "cell_type": "markdown",
   "metadata": {},
   "source": [
    "10. **List Sorting:**\n",
    "    - Sort the list `[7, 2, 5, 1, 3]` in ascending order using the `sort` method. Demonstrate the use of a secondary sort key (e.g., sorting based on the remainder when divided by 2)."
   ]
  },
  {
   "cell_type": "markdown",
   "metadata": {},
   "source": [
    "11. **Flattening Nested Lists:**\n",
    "    - Write a Python code using list comprehension to flatten `nested_list = [1, [2, 3, [4, 5]], 6, [7, 8]]` into a simple list of integers."
   ]
  }
 ],
 "metadata": {
  "language_info": {
   "name": "python"
  }
 },
 "nbformat": 4,
 "nbformat_minor": 2
}
