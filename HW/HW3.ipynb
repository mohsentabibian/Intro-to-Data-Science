{
 "cells": [
  {
   "cell_type": "markdown",
   "metadata": {},
   "source": [
    "# Intro to Data Science - Homework 3 - Fall 2024 - Wilmington College\n",
    "## Due Date: March 04, 2024, 11:30 AM (Before the Start of Our Class)\n",
    "\n",
    "Dear Students,\n",
    "\n",
    "Welcome to Homework 3 for the Intro to Data Science course.\n",
    "\n",
    "**Submission Instructions:**\n",
    "Please complete the homework and commit your changes to GitHub. \n",
    "\n",
    "Last part of each problem dedicated to this question: \"How long did it take you to solve this question? Was it easy, medium, or hard for you? Feel free to share any comments you have.\"\n",
    "\n",
    "**Alternative Submission:**\n",
    "If, for any reason, you are unable to use GitHub, you can submit your work via email.\n",
    "\n",
    "Remember, timely completion of assignments is crucial for your understanding of the course material. If you face any challenges, don't hesitate to reach out."
   ]
  },
  {
   "cell_type": "markdown",
   "metadata": {},
   "source": [
    "## Top World's Companies Dataset\n",
    "You can download the dataset from Kaggle via [this link](https://www.kaggle.com/datasets/bhavikjikadara/top-worlds-companies/data). In case of any issues, I have also provided the dataset on my GitHub under the HW folder named \"companies.csv\".\n",
    "\n",
    "Here is the explanation from kaggle.\n",
    "\n",
    "This dataset contains information on 10,000 different companies sourced from Ambition Box, a platform that provides insights into company reviews, ratings, salaries, interviews, and more. The dataset includes the following columns:\n",
    "\n",
    "- **Company_name**: The name of the company listed on the Ambition Box.\n",
    "- **Description**: A brief description of the company, often sourced from its profile or website.\n",
    "- **Ratings**: The overall rating of the company as provided by users on Ambition Box.\n",
    "- **Highly_rated_for**: Areas or aspects of the company that are highly rated by users.\n",
    "- **Critically_rated_for**: Areas or aspects of the company that are critically rated by users.\n",
    "- **Total_reviews**: The total number of reviews submitted for the company on Ambition Box.\n",
    "- **Avg_salary**: The average salary reported for the company, if available.\n",
    "- **Interviews_taken**: The number of interviews conducted by the company, if available.\n",
    "- **Total_jobs_available**: The total number of job positions available within the company.\n",
    "- **Total_benefits**: Information on benefits offered by the company, if provided."
   ]
  },
  {
   "cell_type": "markdown",
   "metadata": {},
   "source": []
  },
  {
   "cell_type": "markdown",
   "metadata": {},
   "source": [
    "1. **Data Loading and Exploration:**\n",
    "\n",
    "    - a. Write a Python script to load the dataset into a pandas DataFrame and display the first 5 rows.\n",
    "    - b. Write a Python function to identify and count the number of missing values in each column of the dataset. Then, calculate the percentage of missing values for each column.\n",
    "    - c. Write a Python script to rename the columns of the dataset as follows:\n",
    "        - Rename the column \"Company_name\" to \"Company_Name\"\n",
    "        - Rename the column \"Avg_salary\" to \"Average_Salary\"\n",
    "        - Rename the column \"Total_reviews\" to \"Total_Reviews\"\n",
    "        - Rename the column \"Total_jobs_available\" to \"Total_Jobs_Available\"\n",
    "        - Rename the column \"Total_benefits\" to \"Total_Benefits\"\n",
    "        - Ensure that the changes are reflected in the DataFrame, and display the first 5 rows to confirm the column name changes.\n"
   ]
  },
  {
   "cell_type": "markdown",
   "metadata": {},
   "source": [
    "2. **Data Analysis and Statistics:**\n",
    "    - a. Calculate the average rating of all the companies in the dataset.\n",
    "    - b. Find the company with the highest number of total reviews.\n",
    "    - c. Determine the percentage of companies that have reported average salaries.\n",
    "    - d. Calculate the median number of interviews taken by the companies.\n",
    "    - e. Identify the company with the highest number of job positions available.\n",
    "    - f. Find the top 5 areas highly rated by users across all companies.\n",
    "    - g. Calculate the percentage of companies that offer total benefits.\n",
    "    - h. Using the 'Avg_salary' column, implement discretization and binning into three categories: 'Low', 'Medium', and 'High'. Calculate the percentage of companies falling into each category.\n",
    "    - i. Detect outliers in the \"Avg_salary\" column and remove them from the dataset. An outlier is defined as a value that is either below Q1 - 1.5 * IQR or above Q3 + 1.5 * IQR, where Q1 is the first quartile, Q3 is the third quartile, and IQR is the interquartile range. After detecting outliers, implement a filtering mechanism to remove them from the dataset and return a cleaned DataFrame.\n"
   ]
  },
  {
   "cell_type": "markdown",
   "metadata": {},
   "source": [
    "3. **Data Cleaning and Manipulation:**\n",
    "    - a. Write a function to clean the \"Description\" column by removing special characters and converting text to lowercase.\n",
    "    - b. Write a function called `filter_missing_salary_data` to filter out rows where the average salary information is missing.\n",
    "    - c. Write a function called `handle_missing_data` to handle missing data by replacing values and removing duplicates. The function should:\n",
    "        - Replace missing values in the \"Total_benefits\" column with the median value of the column.\n",
    "        - Remove any duplicate rows from the dataset based on the \"Company_name\" column.\n",
    "        - Replace any -- (NA) values in the \"Highly_rated_for\" and \"Critically_rated_for\" columns with the string \"Not specified\".\n",
    "    - d. Write a Python function to create indicator variables representing whether a company offers any benefits or not.\n",
    "    "
   ]
  },
  {
   "cell_type": "markdown",
   "metadata": {},
   "source": [
    "4. **Sampling and Randomness:**\n",
    "    - Write a Python function to implement permutation-based sampling to select a 20 random sample of companies from the dataset.\n",
    "\n"
   ]
  }
 ],
 "metadata": {
  "kernelspec": {
   "display_name": "Python 3",
   "language": "python",
   "name": "python3"
  },
  "language_info": {
   "codemirror_mode": {
    "name": "ipython",
    "version": 3
   },
   "file_extension": ".py",
   "mimetype": "text/x-python",
   "name": "python",
   "nbconvert_exporter": "python",
   "pygments_lexer": "ipython3",
   "version": "3.10.13"
  }
 },
 "nbformat": 4,
 "nbformat_minor": 2
}
